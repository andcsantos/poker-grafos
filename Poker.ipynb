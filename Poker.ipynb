{
 "cells": [
  {
   "cell_type": "code",
   "execution_count": 1,
   "metadata": {
    "collapsed": true
   },
   "outputs": [],
   "source": [
    "from pypokerengine.engine.hand_evaluator import HandEvaluator\n",
    "from pypokerengine.players import BasePokerPlayer\n",
    "from pypokerengine.utils.card_utils import _pick_unused_card, _fill_community_card, gen_cards\n",
    "\n",
    "\n",
    "# Estimate the ratio of winning games given the current state of the game\n",
    "def estimate_win_rate(nb_simulation, nb_player, hole_card, community_card=None):\n",
    "    if not community_card: community_card = []\n",
    "\n",
    "    # Make lists of Card objects out of the list of cards\n",
    "    community_card = gen_cards(community_card)\n",
    "    hole_card = gen_cards(hole_card)\n",
    "\n",
    "    # Estimate the win count by doing a Monte Carlo simulation\n",
    "    win_count = sum([montecarlo_simulation(nb_player, hole_card, community_card) for _ in range(nb_simulation)])\n",
    "    return 1.0 * win_count / nb_simulation\n",
    "\n",
    "\n",
    "def montecarlo_simulation(nb_player, hole_card, community_card):\n",
    "    # Do a Monte Carlo simulation given the current state of the game by evaluating the hands\n",
    "    community_card = _fill_community_card(community_card, used_card=hole_card + community_card)\n",
    "    unused_cards = _pick_unused_card((nb_player - 1) * 2, hole_card + community_card)\n",
    "    opponents_hole = [unused_cards[2 * i:2 * i + 2] for i in range(nb_player - 1)]\n",
    "    opponents_score = [HandEvaluator.eval_hand(hole, community_card) for hole in opponents_hole]\n",
    "    my_score = HandEvaluator.eval_hand(hole_card, community_card)\n",
    "    return 1 if my_score >= max(opponents_score) else 0\n",
    "\n",
    "\n",
    "class DataBloggerBot(BasePokerPlayer):\n",
    "    def __init__(self):\n",
    "        super().__init__()\n",
    "        self.wins = 0\n",
    "        self.losses = 0\n",
    "\n",
    "    def declare_action(self, valid_actions, hole_card, round_state):\n",
    "        # Estimate the win rate\n",
    "        win_rate = estimate_win_rate(100, self.num_players, hole_card, round_state['community_card'])\n",
    "\n",
    "        # Check whether it is possible to call\n",
    "        can_call = len([item for item in valid_actions if item['action'] == 'call']) > 0\n",
    "        if can_call:\n",
    "            # If so, compute the amount that needs to be called\n",
    "            call_amount = [item for item in valid_actions if item['action'] == 'call'][0]['amount']\n",
    "        else:\n",
    "            call_amount = 0\n",
    "\n",
    "        amount = None\n",
    "        ########### O codigo deve ser inserido aqui.\n",
    "        \n",
    "        \n",
    "        \n",
    "        \n",
    "        \n",
    "        \n",
    "        \n",
    "        \n",
    "        #############\n",
    "        # If the win rate is large enough, then raise\n",
    "        if win_rate > 0.5:\n",
    "            raise_amount_options = [item for item in valid_actions if item['action'] == 'raise'][0]['amount']\n",
    "            if win_rate > 0.85:\n",
    "                # If it is extremely likely to win, then raise as much as possible\n",
    "                action = 'raise'\n",
    "                amount = raise_amount_options['max']\n",
    "            else:\n",
    "                # If there is a chance to win, then call\n",
    "                action = 'call'\n",
    "        else:\n",
    "            action = 'call' if can_call and call_amount == 0 else 'fold'\n",
    "\n",
    "        # Set the amount\n",
    "        if amount is None:\n",
    "            items = [item for item in valid_actions if item['action'] == action]\n",
    "            amount = items[0]['amount']\n",
    "        #############\n",
    "        \n",
    "        return action, amount\n",
    "\n",
    "    def receive_game_start_message(self, game_info):\n",
    "        self.num_players = game_info['player_num']\n",
    "\n",
    "    def receive_round_start_message(self, round_count, hole_card, seats):\n",
    "        pass\n",
    "\n",
    "    def receive_street_start_message(self, street, round_state):\n",
    "        pass\n",
    "\n",
    "    def receive_game_update_message(self, action, round_state):\n",
    "        pass\n",
    "\n",
    "    def receive_round_result_message(self, winners, hand_info, round_state):\n",
    "        is_winner = self.uuid in [item['uuid'] for item in winners]\n",
    "        self.wins += int(is_winner)\n",
    "        self.losses += int(not is_winner)\n",
    "\n",
    "\n",
    "def setup_ai():\n",
    "    return DataBloggerBot()"
   ]
  },
  {
   "cell_type": "code",
   "execution_count": 2,
   "metadata": {
    "collapsed": true
   },
   "outputs": [],
   "source": [
    "from pypokerengine.players import BasePokerPlayer\n",
    "import numpy as np\n",
    "from sklearn.neural_network import MLPRegressor\n",
    "\n",
    "\n",
    "class CallBot(BasePokerPlayer):\n",
    "    def declare_action(self, valid_actions, hole_card, round_state):\n",
    "        actions = [item for item in valid_actions if item['action'] in ['call']]\n",
    "        return list(np.random.choice(actions).values())\n",
    "\n",
    "    def receive_game_start_message(self, game_info):\n",
    "        pass\n",
    "\n",
    "    def receive_round_start_message(self, round_count, hole_card, seats):\n",
    "        pass\n",
    "\n",
    "    def receive_street_start_message(self, street, round_state):\n",
    "        pass\n",
    "\n",
    "    def receive_game_update_message(self, action, round_state):\n",
    "        pass\n",
    "\n",
    "    def receive_round_result_message(self, winners, hand_info, round_state):\n",
    "        pass\n",
    "\n",
    "\n",
    "def setup_ai():\n",
    "    return CallBot()"
   ]
  },
  {
   "cell_type": "code",
   "execution_count": 15,
   "metadata": {
    "scrolled": true
   },
   "outputs": [
    {
     "name": "stdout",
     "output_type": "stream",
     "text": [
      "Started the round 1\n",
      "Street \"preflop\" started. (community card = [])\n",
      "\"p2\" declared \"call:10\"\n",
      "\"p1\" declared \"fold:0\"\n",
      "\"['p2']\" won the round 1 (stack = {'p1': 90, 'p2': 110})\n",
      "Started the round 2\n",
      "Street \"preflop\" started. (community card = [])\n",
      "\"p1\" declared \"call:10\"\n",
      "\"p2\" declared \"call:10\"\n",
      "Street \"flop\" started. (community card = ['D7', 'S7', 'DT'])\n",
      "\"p1\" declared \"call:0\"\n",
      "\"p2\" declared \"call:0\"\n",
      "Street \"turn\" started. (community card = ['D7', 'S7', 'DT', 'D3'])\n",
      "\"p1\" declared \"call:0\"\n",
      "\"p2\" declared \"call:0\"\n",
      "Street \"river\" started. (community card = ['D7', 'S7', 'DT', 'D3', 'C8'])\n",
      "\"p1\" declared \"call:0\"\n",
      "\"p2\" declared \"call:0\"\n",
      "\"['p1']\" won the round 2 (stack = {'p1': 100, 'p2': 100})\n",
      "Started the round 3\n",
      "Street \"preflop\" started. (community card = [])\n",
      "\"p2\" declared \"call:10\"\n",
      "\"p1\" declared \"call:10\"\n",
      "Street \"flop\" started. (community card = ['C6', 'S7', 'H5'])\n",
      "\"p2\" declared \"call:0\"\n",
      "\"p1\" declared \"call:0\"\n",
      "Street \"turn\" started. (community card = ['C6', 'S7', 'H5', 'SJ'])\n",
      "\"p2\" declared \"call:0\"\n",
      "\"p1\" declared \"call:0\"\n",
      "Street \"river\" started. (community card = ['C6', 'S7', 'H5', 'SJ', 'C8'])\n",
      "\"p2\" declared \"call:0\"\n",
      "\"p1\" declared \"call:0\"\n",
      "\"['p2']\" won the round 3 (stack = {'p1': 90, 'p2': 110})\n",
      "Started the round 4\n",
      "Street \"preflop\" started. (community card = [])\n",
      "\"p1\" declared \"call:10\"\n",
      "\"p2\" declared \"call:10\"\n",
      "Street \"flop\" started. (community card = ['CK', 'CQ', 'H8'])\n",
      "\"p1\" declared \"call:0\"\n",
      "\"p2\" declared \"call:0\"\n",
      "Street \"turn\" started. (community card = ['CK', 'CQ', 'H8', 'D5'])\n",
      "\"p1\" declared \"call:0\"\n",
      "\"p2\" declared \"call:0\"\n",
      "Street \"river\" started. (community card = ['CK', 'CQ', 'H8', 'D5', 'D2'])\n",
      "\"p1\" declared \"call:0\"\n",
      "\"p2\" declared \"call:0\"\n",
      "\"['p1']\" won the round 4 (stack = {'p1': 100, 'p2': 100})\n",
      "Started the round 5\n",
      "Street \"preflop\" started. (community card = [])\n",
      "\"p2\" declared \"call:10\"\n",
      "\"p1\" declared \"fold:0\"\n",
      "\"['p2']\" won the round 5 (stack = {'p1': 90, 'p2': 110})\n",
      "Avg. stack: 90\n"
     ]
    }
   ],
   "source": [
    "from pypokerengine.api.game import start_poker, setup_config\n",
    "import numpy as np\n",
    "\n",
    "if __name__ == '__main__':\n",
    "    blogger_bot = DataBloggerBot()\n",
    "\n",
    "    # The stack log contains the stacks of the Data Blogger bot after each game (the initial stack is 100)\n",
    "    stack_log = []\n",
    "    for round in range(1):\n",
    "        p1, p2 = blogger_bot, CallBot()\n",
    "\n",
    "        config = setup_config(max_round=5, initial_stack=100, small_blind_amount=5)\n",
    "        config.register_player(name=\"p1\", algorithm=p1)\n",
    "        config.register_player(name=\"p2\", algorithm=p2)\n",
    "        game_result = start_poker(config, verbose=2)\n",
    "\n",
    "        stack_log.append([player['stack'] for player in game_result['players'] if player['uuid'] == blogger_bot.uuid])\n",
    "        print('Avg. stack:', '%d' % (int(np.mean(stack_log))))"
   ]
  },
  {
   "cell_type": "code",
   "execution_count": null,
   "metadata": {
    "collapsed": true
   },
   "outputs": [],
   "source": []
  },
  {
   "cell_type": "code",
   "execution_count": null,
   "metadata": {
    "collapsed": true
   },
   "outputs": [],
   "source": []
  },
  {
   "cell_type": "code",
   "execution_count": null,
   "metadata": {
    "collapsed": true
   },
   "outputs": [],
   "source": []
  },
  {
   "cell_type": "markdown",
   "metadata": {},
   "source": [
    "Rede Bayesiana"
   ]
  },
  {
   "cell_type": "code",
   "execution_count": 8,
   "metadata": {},
   "outputs": [],
   "source": [
    "%matplotlib inline\n",
    "import matplotlib.pyplot as plt\n",
    "import seaborn; seaborn.set_style('whitegrid')\n",
    "import numpy\n",
    "\n",
    "from pomegranate import *\n",
    "\n",
    "numpy.random.seed(0)\n",
    "numpy.set_printoptions(suppress=True)"
   ]
  },
  {
   "cell_type": "code",
   "execution_count": 10,
   "metadata": {
    "collapsed": true
   },
   "outputs": [],
   "source": [
    "##probabilidades iniciais\n",
    "win = DiscreteDistribution({True: 0.5, False: 0.5})\n",
    "loose = DiscreteDistribution({True: 0.5, False: 0.5})"
   ]
  },
  {
   "cell_type": "code",
   "execution_count": 14,
   "metadata": {
    "collapsed": true
   },
   "outputs": [],
   "source": [
    "##probabilidades condicionais --> Deve vim da amostragem de MonteCarlo"
   ]
  },
  {
   "cell_type": "code",
   "execution_count": 11,
   "metadata": {},
   "outputs": [],
   "source": [
    "s1 = State(win, name=\"win\")\n",
    "s2 = State(loose, name=\"loose\")"
   ]
  },
  {
   "cell_type": "code",
   "execution_count": 12,
   "metadata": {
    "collapsed": true
   },
   "outputs": [],
   "source": [
    "# Create the Bayesian network object with a useful name\n",
    "model = BayesianNetwork(\"Poker\")\n",
    "model.add_states(s1, s2)"
   ]
  },
  {
   "cell_type": "code",
   "execution_count": 13,
   "metadata": {
    "collapsed": true
   },
   "outputs": [],
   "source": [
    "model.bake()"
   ]
  },
  {
   "cell_type": "code",
   "execution_count": null,
   "metadata": {
    "collapsed": true
   },
   "outputs": [],
   "source": []
  }
 ],
 "metadata": {
  "kernelspec": {
   "display_name": "Python 3",
   "language": "python",
   "name": "python3"
  },
  "language_info": {
   "codemirror_mode": {
    "name": "ipython",
    "version": 3
   },
   "file_extension": ".py",
   "mimetype": "text/x-python",
   "name": "python",
   "nbconvert_exporter": "python",
   "pygments_lexer": "ipython3",
   "version": "3.6.5"
  }
 },
 "nbformat": 4,
 "nbformat_minor": 2
}
