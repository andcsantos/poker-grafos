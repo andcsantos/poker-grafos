{
 "cells": [
  {
   "cell_type": "markdown",
   "metadata": {},
   "source": [
    "Criando o dataset"
   ]
  },
  {
   "cell_type": "code",
   "execution_count": 1,
   "metadata": {
    "collapsed": true
   },
   "outputs": [],
   "source": [
    "from treys import Card\n",
    "import numpy as np"
   ]
  },
  {
   "cell_type": "code",
   "execution_count": 4,
   "metadata": {},
   "outputs": [],
   "source": [
    "from treys import Deck\n",
    "from treys import Evaluator\n",
    "evaluator = Evaluator()\n",
    "probabilidades_3cartas = np.zeros(shape=(1000000,8))\n",
    "for i in range(1000000):\n",
    "    deck = Deck()\n",
    "    board = deck.draw(3)\n",
    "    player1_hand = deck.draw(2)\n",
    "    chance = evaluator.evaluate(board, player1_hand)/7462\n",
    "    probabilidades_3cartas[i,0] = board[0]\n",
    "    probabilidades_3cartas[i,1] = board[1]\n",
    "    probabilidades_3cartas[i,2] = board[2]\n",
    "    probabilidades_3cartas[i,5] = player1_hand[0]\n",
    "    probabilidades_3cartas[i,6] = player1_hand[1]\n",
    "    probabilidades_3cartas[i,7] = chance"
   ]
  },
  {
   "cell_type": "code",
   "execution_count": 5,
   "metadata": {},
   "outputs": [],
   "source": [
    "from treys import Deck\n",
    "from treys import Evaluator\n",
    "evaluator = Evaluator()\n",
    "probabilidades_4cartas = np.zeros(shape=(1000000,8))\n",
    "for i in range(1000000):\n",
    "    deck = Deck()\n",
    "    board = deck.draw(4)\n",
    "    player1_hand = deck.draw(2)\n",
    "    chance = evaluator.evaluate(board, player1_hand)/7462\n",
    "    probabilidades_4cartas[i,0] = board[0]\n",
    "    probabilidades_4cartas[i,1] = board[1]\n",
    "    probabilidades_4cartas[i,2] = board[2]\n",
    "    probabilidades_4cartas[i,3] = board[3]\n",
    "    probabilidades_4cartas[i,5] = player1_hand[0]\n",
    "    probabilidades_4cartas[i,6] = player1_hand[1]\n",
    "    probabilidades_4cartas[i,7] = chance"
   ]
  },
  {
   "cell_type": "code",
   "execution_count": 10,
   "metadata": {},
   "outputs": [],
   "source": [
    "from treys import Deck\n",
    "from treys import Evaluator\n",
    "evaluator = Evaluator()\n",
    "probabilidades_5cartas = np.zeros(shape=(1000000,8))\n",
    "for i in range(1000000):\n",
    "    deck = Deck()\n",
    "    board = deck.draw(5)\n",
    "    player1_hand = deck.draw(2)\n",
    "    chance = evaluator.evaluate(board, player1_hand)/7462\n",
    "    probabilidades_5cartas[i,0] = board[0]\n",
    "    probabilidades_5cartas[i,1] = board[1]\n",
    "    probabilidades_5cartas[i,2] = board[2]\n",
    "    probabilidades_5cartas[i,3] = board[3]\n",
    "    probabilidades_5cartas[i,4] = board[4]\n",
    "    probabilidades_5cartas[i,5] = player1_hand[0]\n",
    "    probabilidades_5cartas[i,6] = player1_hand[1]\n",
    "    probabilidades_5cartas[i,7] = chance"
   ]
  },
  {
   "cell_type": "code",
   "execution_count": null,
   "metadata": {
    "collapsed": true
   },
   "outputs": [],
   "source": []
  },
  {
   "cell_type": "markdown",
   "metadata": {},
   "source": [
    "Criando a Rede Bayesiana"
   ]
  },
  {
   "cell_type": "code",
   "execution_count": 11,
   "metadata": {
    "collapsed": true
   },
   "outputs": [],
   "source": [
    "%matplotlib inline\n",
    "import matplotlib.pyplot as plt\n",
    "import seaborn; seaborn.set_style('whitegrid')\n",
    "import numpy\n",
    "\n",
    "from pomegranate import *\n",
    "\n",
    "numpy.random.seed(0)\n",
    "numpy.set_printoptions(suppress=True)"
   ]
  },
  {
   "cell_type": "code",
   "execution_count": 12,
   "metadata": {},
   "outputs": [],
   "source": [
    "d1 = DiscreteDistribution({True: 0.5, False: 0.5})\n",
    "d2 = ConditionalProbabilityTable(probabilidades_3cartas, [d1])\n",
    "d3 = ConditionalProbabilityTable(probabilidades_4cartas, [d2])\n",
    "d4 = ConditionalProbabilityTable(probabilidades_5cartas, [d3])"
   ]
  },
  {
   "cell_type": "code",
   "execution_count": 13,
   "metadata": {},
   "outputs": [
    {
     "ename": "IndexError",
     "evalue": "list index out of range",
     "output_type": "error",
     "traceback": [
      "\u001b[0;31m---------------------------------------------------------------------------\u001b[0m",
      "\u001b[0;31mIndexError\u001b[0m                                Traceback (most recent call last)",
      "\u001b[0;32m<ipython-input-13-452e0a84cb0b>\u001b[0m in \u001b[0;36m<module>\u001b[0;34m()\u001b[0m\n\u001b[1;32m      9\u001b[0m \u001b[0mmodel\u001b[0m\u001b[0;34m.\u001b[0m\u001b[0madd_edge\u001b[0m\u001b[0;34m(\u001b[0m\u001b[0ms2\u001b[0m\u001b[0;34m,\u001b[0m \u001b[0ms3\u001b[0m\u001b[0;34m)\u001b[0m\u001b[0;34m\u001b[0m\u001b[0m\n\u001b[1;32m     10\u001b[0m \u001b[0mmodel\u001b[0m\u001b[0;34m.\u001b[0m\u001b[0madd_edge\u001b[0m\u001b[0;34m(\u001b[0m\u001b[0ms3\u001b[0m\u001b[0;34m,\u001b[0m\u001b[0ms4\u001b[0m\u001b[0;34m)\u001b[0m\u001b[0;34m\u001b[0m\u001b[0m\n\u001b[0;32m---> 11\u001b[0;31m \u001b[0mmodel\u001b[0m\u001b[0;34m.\u001b[0m\u001b[0mbake\u001b[0m\u001b[0;34m(\u001b[0m\u001b[0;34m)\u001b[0m\u001b[0;34m\u001b[0m\u001b[0m\n\u001b[0m",
      "\u001b[0;32mpomegranate/BayesianNetwork.pyx\u001b[0m in \u001b[0;36mpomegranate.BayesianNetwork.BayesianNetwork.bake\u001b[0;34m()\u001b[0m\n",
      "\u001b[0;32mpomegranate/distributions/ConditionalProbabilityTable.pyx\u001b[0m in \u001b[0;36mpomegranate.distributions.ConditionalProbabilityTable.ConditionalProbabilityTable.joint\u001b[0;34m()\u001b[0m\n",
      "\u001b[0;31mIndexError\u001b[0m: list index out of range"
     ]
    }
   ],
   "source": [
    "s1 = State(d1, name=\"s1\")\n",
    "s2 = State(d2, name=\"s2\")\n",
    "s3 = State(d3, name=\"s3\")\n",
    "s4 = State(d4, name=\"s4\")\n",
    "\n",
    "model = BayesianNetwork()\n",
    "model.add_states(s1, s2, s3, s4)\n",
    "model.add_edge(s1, s2)\n",
    "model.add_edge(s2, s3)\n",
    "model.add_edge(s3,s4)\n",
    "model.bake()"
   ]
  },
  {
   "cell_type": "code",
   "execution_count": null,
   "metadata": {
    "collapsed": true
   },
   "outputs": [],
   "source": [
    "from treys import Deck\n",
    "deck = Deck()\n",
    "board = deck.draw(5)\n",
    "minha_mao_1 = deck.draw(2)"
   ]
  }
 ],
 "metadata": {
  "kernelspec": {
   "display_name": "Python 3",
   "language": "python",
   "name": "python3"
  }
 },
 "nbformat": 4,
 "nbformat_minor": 2
}
